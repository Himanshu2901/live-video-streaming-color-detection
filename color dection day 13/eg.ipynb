

import cv2
import skimage as ski

vid=cv2.VideoCapture(0)

while True:
    ack ,img =vid.read()
    if ack:
        th,red_bw=cv2.threshold(cv2.subtract(
            img[:,:,-1],cv2.cvtColor(img,cv2.COLOR_BGR2GRAY)
        ),80,255,cv2.THRESH_BINARY)

        strel=cv2.getStructuringElement(cv2.MORPH_ELLIPSE,(10,10))
        red_bw=cv2.morphologyEx(red_bw,cv2.MORPH_CLOSE,strel,1)

        red_bw=ski.morphology.remove_small_objects(red_bw.astype(bool) , 3000) .astype('uint8')*255

        red_bw=ski.morphology.remove_small_holes(red_bw.astype(bool) , 3000) .astype('uint8')*255

  
        rps=ski.measure.regionprops(ski.measure.label(red_bw.astype('uint8')))

        count=len(rps)

        img_copy=img.copy()

        cv2.putText(img_copy,str(count),(30,30),cv2.FONT_HERSHEY_SIMPLEX,5,(255,0,0),5)

        for rp in rps:
            y1,x1,y2,x2=rp.bbox

            cv2.rectangle(img_copy,(x1,y1),(x2,y2),(0,0,255),5)


        cv2.imshow('preview',img_copy)
        key=cv2.waitKey(1)
        if key==ord('x'):
            break

cv2.destroyAllWindows();
cv2.waitKey(1)
vid.release()
import numpy as np
from flask import Flask, request, jsonify, render_template   
import cv2
import skimage as ski

app = Flask(__name__)



@app.route('/') 
def home():
      
    return render_template("index.html")
  
@app.route('/predict',methods=['GET'])
def predict():
    
    

    vid=cv2.VideoCapture(0)

    while True:
        ack ,img =vid.read()
        if ack:
            th,red_bw=cv2.threshold(cv2.subtract(
                img[:,:,-1],cv2.cvtColor(img,cv2.COLOR_BGR2GRAY)
            ),80,255,cv2.THRESH_BINARY)

            strel=cv2.getStructuringElement(cv2.MORPH_ELLIPSE,(10,10))
            red_bw=cv2.morphologyEx(red_bw,cv2.MORPH_CLOSE,strel,1)

            red_bw=ski.morphology.remove_small_objects(red_bw.astype(bool) , 3000) .astype('uint8')*255

            red_bw=ski.morphology.remove_small_holes(red_bw.astype(bool) , 3000) .astype('uint8')*255

    
            rps=ski.measure.regionprops(ski.measure.label(red_bw.astype('uint8')))

            count=len(rps)

            img_copy=img.copy()

            cv2.putText(img_copy,str(count),(30,30),cv2.FONT_HERSHEY_SIMPLEX,5,(255,0,0),5)

            for rp in rps:
                y1,x1,y2,x2=rp.bbox

                cv2.rectangle(img_copy,(x1,y1),(x2,y2),(0,0,255),5)


            cv2.imshow('preview',img_copy)
            key=cv2.waitKey(1)
            if key==ord('x'):
                break

    cv2.destroyAllWindows();
    cv2.waitKey(1)
    vid.release()


    
        
    return render_template('index.html', prediction_text='Regression Model  has predicted salary for given experinace is : ')#{}'.format(prediction))


if __name__ == "__main__":
    app.run()
